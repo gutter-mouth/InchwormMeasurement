{
 "cells": [
  {
   "cell_type": "code",
   "execution_count": 1,
   "metadata": {},
   "outputs": [],
   "source": [
    "%load_ext autoreload\n",
    "%autoreload 2\n",
    "%matplotlib inline\n",
    "\n",
    "import numpy as np\n",
    "import scipy\n",
    "from pprint import pprint\n",
    "from matplotlib import pyplot as plt\n",
    "# from inchworm_measurement import simulator\n",
    "from inchworm_measurement.simulator import Simulator\n",
    "from scipy.spatial.transform import Rotation\n",
    "from inchworm_measurement.laser import Laser\n",
    "from inchworm_measurement import utils"
   ]
  },
  {
   "attachments": {},
   "cell_type": "markdown",
   "metadata": {},
   "source": []
  },
  {
   "cell_type": "code",
   "execution_count": 2,
   "metadata": {},
   "outputs": [
    {
     "name": "stdout",
     "output_type": "stream",
     "text": [
      "array([[ 100.        , -100.        ,    0.        ,    0.        ],\n",
      "       [   0.        ,    0.        ,   96.59258263,  -96.59258263],\n",
      "       [1000.        , 1000.        , 1025.88190451,  974.11809549]])\n",
      "array([[ 100, -100,    0,    0],\n",
      "       [   0,    0,  100, -100],\n",
      "       [   0,    0,    0,    0]])\n"
     ]
    }
   ],
   "source": [
    "R = Rotation.from_rotvec([np.pi / 12, 0, 0]).as_matrix()\n",
    "t = np.array([[0, 0, 1000]]).T\n",
    "T = np.vstack([np.hstack([R, t]), np.array([[0, 0, 0, 1]])])\n",
    "p2 = np.array([[100, 0, 0], [-100, -0, 0], [0, 100, 0], [0, -100, 0]]).T\n",
    "# p2 = np.random.rand(3,100)\n",
    "\n",
    "\n",
    "p1 = utils.homogeneous_transform(T, p2)\n",
    "pprint(p1)\n",
    "pprint(p2)"
   ]
  },
  {
   "attachments": {},
   "cell_type": "markdown",
   "metadata": {},
   "source": [
    "# p1 = T p2を満たすときにp1, p2, tからRを予想したい"
   ]
  },
  {
   "cell_type": "code",
   "execution_count": 3,
   "metadata": {},
   "outputs": [
    {
     "ename": "AttributeError",
     "evalue": "module 'inchworm_measurement.utils' has no attribute 'skew'",
     "output_type": "error",
     "traceback": [
      "\u001b[0;31m---------------------------------------------------------------------------\u001b[0m",
      "\u001b[0;31mAttributeError\u001b[0m                            Traceback (most recent call last)",
      "\u001b[0;32m<ipython-input-3-e4d39a4bb526>\u001b[0m in \u001b[0;36m<module>\u001b[0;34m\u001b[0m\n\u001b[0;32m----> 1\u001b[0;31m \u001b[0mT\u001b[0m \u001b[0;34m=\u001b[0m \u001b[0mutils\u001b[0m\u001b[0;34m.\u001b[0m\u001b[0mskew\u001b[0m\u001b[0;34m(\u001b[0m\u001b[0mt\u001b[0m\u001b[0;34m)\u001b[0m\u001b[0;34m\u001b[0m\u001b[0;34m\u001b[0m\u001b[0m\n\u001b[0m\u001b[1;32m      2\u001b[0m \u001b[0mp1_\u001b[0m \u001b[0;34m=\u001b[0m \u001b[0;34m(\u001b[0m\u001b[0mp1\u001b[0m\u001b[0;34m.\u001b[0m\u001b[0mT\u001b[0m \u001b[0;34m@\u001b[0m \u001b[0mT\u001b[0m\u001b[0;34m)\u001b[0m\u001b[0;34m.\u001b[0m\u001b[0mT\u001b[0m\u001b[0;34m\u001b[0m\u001b[0;34m\u001b[0m\u001b[0m\n\u001b[1;32m      3\u001b[0m \u001b[0;34m\u001b[0m\u001b[0m\n\u001b[1;32m      4\u001b[0m \u001b[0mA\u001b[0m \u001b[0;34m=\u001b[0m \u001b[0mutils\u001b[0m\u001b[0;34m.\u001b[0m\u001b[0mquadratic2linear\u001b[0m\u001b[0;34m(\u001b[0m\u001b[0mp1\u001b[0m\u001b[0;34m,\u001b[0m \u001b[0mp2\u001b[0m\u001b[0;34m.\u001b[0m\u001b[0mT\u001b[0m\u001b[0;34m)\u001b[0m\u001b[0;34m\u001b[0m\u001b[0;34m\u001b[0m\u001b[0m\n\u001b[1;32m      5\u001b[0m \u001b[0mkernel\u001b[0m \u001b[0;34m=\u001b[0m \u001b[0mscipy\u001b[0m\u001b[0;34m.\u001b[0m\u001b[0mlinalg\u001b[0m\u001b[0;34m.\u001b[0m\u001b[0mnull_space\u001b[0m\u001b[0;34m(\u001b[0m\u001b[0mA\u001b[0m\u001b[0;34m)\u001b[0m\u001b[0;34m\u001b[0m\u001b[0;34m\u001b[0m\u001b[0m\n",
      "\u001b[0;31mAttributeError\u001b[0m: module 'inchworm_measurement.utils' has no attribute 'skew'"
     ]
    }
   ],
   "source": [
    "T = utils.skew(t)\n",
    "p1_ = (p1.T @ T).T\n",
    "\n",
    "A = utils.quadratic2linear(p1, p2.T)\n",
    "kernel = scipy.linalg.null_space(A)\n",
    "pprint(kernel)\n"
   ]
  },
  {
   "attachments": {},
   "cell_type": "markdown",
   "metadata": {},
   "source": [
    "# 先にp1の座標を求めるアプローチ"
   ]
  },
  {
   "cell_type": "code",
   "execution_count": 3,
   "metadata": {},
   "outputs": [
    {
     "ename": "NameError",
     "evalue": "name 'p1' is not defined",
     "output_type": "error",
     "traceback": [
      "\u001b[0;31m---------------------------------------------------------------------------\u001b[0m",
      "\u001b[0;31mNameError\u001b[0m                                 Traceback (most recent call last)",
      "\u001b[0;32m<ipython-input-3-d5b145e076fa>\u001b[0m in \u001b[0;36m<module>\u001b[0;34m\u001b[0m\n\u001b[0;32m----> 1\u001b[0;31m \u001b[0ma\u001b[0m \u001b[0;34m=\u001b[0m \u001b[0mp1\u001b[0m\u001b[0;34m[\u001b[0m\u001b[0;34m:\u001b[0m\u001b[0;34m,\u001b[0m\u001b[0;36m0\u001b[0m\u001b[0;34m]\u001b[0m\u001b[0;34m\u001b[0m\u001b[0;34m\u001b[0m\u001b[0m\n\u001b[0m\u001b[1;32m      2\u001b[0m \u001b[0mb\u001b[0m \u001b[0;34m=\u001b[0m \u001b[0mp1\u001b[0m\u001b[0;34m[\u001b[0m\u001b[0;34m:\u001b[0m\u001b[0;34m,\u001b[0m\u001b[0;36m1\u001b[0m\u001b[0;34m]\u001b[0m\u001b[0;34m\u001b[0m\u001b[0;34m\u001b[0m\u001b[0m\n\u001b[1;32m      3\u001b[0m \u001b[0mc\u001b[0m \u001b[0;34m=\u001b[0m \u001b[0mp1\u001b[0m\u001b[0;34m[\u001b[0m\u001b[0;34m:\u001b[0m\u001b[0;34m,\u001b[0m\u001b[0;36m0\u001b[0m\u001b[0;34m]\u001b[0m\u001b[0;34m\u001b[0m\u001b[0;34m\u001b[0m\u001b[0m\n\u001b[1;32m      4\u001b[0m \u001b[0md\u001b[0m \u001b[0;34m=\u001b[0m \u001b[0mp1\u001b[0m\u001b[0;34m[\u001b[0m\u001b[0;34m:\u001b[0m\u001b[0;34m,\u001b[0m\u001b[0;36m1\u001b[0m\u001b[0;34m]\u001b[0m\u001b[0;34m\u001b[0m\u001b[0;34m\u001b[0m\u001b[0m\n\u001b[1;32m      5\u001b[0m \u001b[0mt\u001b[0m \u001b[0;34m=\u001b[0m \u001b[0mt\u001b[0m\u001b[0;34m[\u001b[0m\u001b[0;34m:\u001b[0m\u001b[0;34m,\u001b[0m\u001b[0;36m0\u001b[0m\u001b[0;34m]\u001b[0m\u001b[0;34m\u001b[0m\u001b[0;34m\u001b[0m\u001b[0m\n",
      "\u001b[0;31mNameError\u001b[0m: name 'p1' is not defined"
     ]
    }
   ],
   "source": [
    "a = p1[:,0]\n",
    "b = p1[:,1]\n",
    "c = p1[:,0]\n",
    "d = p1[:,1]\n",
    "t = t[:,0]\n",
    "pprint([a,b,c])\n",
    "A = np.hstack([np.cross(t,t).reshape(-1,1),np.cross(a,b).reshape(-1,1), np.cross(a,t).reshape(-1,1),np.cross(b,t).reshape(-1,1)])\n",
    "B = np.array([np.dot(t,t),np.dot(a,b), np.dot(a,t),np.dot(b,t)])\n",
    "pprint(A)\n",
    "pprint(B)"
   ]
  },
  {
   "attachments": {},
   "cell_type": "markdown",
   "metadata": {},
   "source": [
    "### 3本の直角レーザの原点の位置ベクトルが既知の場合の姿勢推定デモ"
   ]
  },
  {
   "cell_type": "code",
   "execution_count": 4,
   "metadata": {},
   "outputs": [],
   "source": [
    "R = Rotation.from_rotvec([np.pi / 12, 0, 0]).as_matrix()\n",
    "t = np.array([[10, 10, 10]]).T\n",
    "T = np.vstack([np.hstack([R, t]), np.array([[0, 0, 0, 1]])])\n",
    "p2 = np.array([[100, 0, 0], [0, 100, 0], [0, 0, 100]]).T\n",
    "p1 = utils.homogeneous_transform(T, p2)"
   ]
  },
  {
   "cell_type": "code",
   "execution_count": 6,
   "metadata": {},
   "outputs": [
    {
     "name": "stdout",
     "output_type": "stream",
     "text": [
      "0.17500736581776363 1.0000000000000002\n"
     ]
    }
   ],
   "source": [
    "# p1とtからRを推定する\n",
    "a = np.dot(p1[:, 0], p1[:, 1])\n",
    "d = np.dot(p1[:, 1], p1[:, 2])\n",
    "g = np.dot(p1[:, 2], p1[:, 0])\n",
    "b = -np.dot(p1[:, 0], t[:,0])\n",
    "e = -np.dot(p1[:, 1], t[:,0])\n",
    "i = -np.dot(p1[:, 2], t[:,0])\n",
    "c = e\n",
    "f = i\n",
    "h = b\n",
    "z = np.dot(t[:,0], t[:,0])\n",
    "\n",
    "A = a * f * i - b * d * i - c * f * g + d * g * z\n",
    "B = (\n",
    "    a * f * z\n",
    "    + a * i * z\n",
    "    - b * e * i\n",
    "    - b * d * z\n",
    "    - c * g * z\n",
    "    - c * f * h\n",
    "    + d * h * z\n",
    "    + e * g * z\n",
    ")\n",
    "C = a * z * z - b * e * z - c * h * z + e * h * z\n",
    "x1 = (-B + np.sqrt(B * B - 4 * A * C)) / (2 * A)\n",
    "x2 = (-B - np.sqrt(B * B - 4 * A * C)) / (2 * A)\n",
    "print(x1, x2)"
   ]
  },
  {
   "cell_type": "code",
   "execution_count": 7,
   "metadata": {},
   "outputs": [
    {
     "name": "stdout",
     "output_type": "stream",
     "text": [
      "[array([0.13043478, 1.        ]),\n",
      " array([0.10911115, 1.        ]),\n",
      " array([0.17500737, 1.        ])]\n"
     ]
    }
   ],
   "source": [
    "q3 = np.array([x1, x2])\n",
    "q1 = -1*(i *q3+z)/(g*q3+h)\n",
    "q2 = -1*(f *q3+z)/(d*q3+e)\n",
    "pprint([q1, q2, q3])"
   ]
  },
  {
   "cell_type": "code",
   "execution_count": 8,
   "metadata": {},
   "outputs": [
    {
     "name": "stdout",
     "output_type": "stream",
     "text": [
      "[array([[ 1.00000000e+02, -3.55271368e-15, -3.55271368e-15],\n",
      "       [ 1.77635684e-15,  9.65925826e+01, -2.58819045e+01],\n",
      "       [ 1.77635684e-15,  2.58819045e+01,  9.65925826e+01]]),\n",
      " array([[  4.34782609,  -8.69565217,  -8.69565217],\n",
      "       [ -8.90888846,   1.63043975, -11.73289294],\n",
      "       [ -8.24992634,  -3.72040241,   8.6544871 ]])]\n",
      "[True, False]\n",
      "True\n"
     ]
    }
   ],
   "source": [
    "# 不適な解の詳細を調べる\n",
    "def xyz_axis_order(rx, ry,rz):\n",
    "    return np.dot(np.cross(rx, ry), rz)>0\n",
    "    \n",
    "\n",
    "\n",
    "p1_a = np.array([[q1[1], q2[1], q3[1]]]).T * p1\n",
    "p1_b = np.array([[q1[0], q2[0], q3[0]]]).T * p1\n",
    "p1_a_from_t = p1_a - t\n",
    "p1_b_from_t =  p1_b - t\n",
    "p2_a = utils.homogeneous_transform(np.linalg.inv(T), p1_a)\n",
    "p2_b = utils.homogeneous_transform(np.linalg.inv(T), p1_b)\n",
    "pprint([p1_a_from_t, p1_b_from_t])\n",
    "\n",
    "pprint([xyz_axis_order(p1_a_from_t[:,0], p1_a_from_t[:,1], p1_a_from_t[:,2]), xyz_axis_order(p1_b_from_t[:,0], p1_b_from_t[:,1], p1_b_from_t[:,2])])\n",
    "print(xyz_axis_order(p2[0], p2[1], p2[2]))"
   ]
  },
  {
   "cell_type": "code",
   "execution_count": 27,
   "metadata": {},
   "outputs": [
    {
     "name": "stdout",
     "output_type": "stream",
     "text": [
      "True\n"
     ]
    }
   ],
   "source": [
    "print(False == False)"
   ]
  },
  {
   "cell_type": "code",
   "execution_count": 24,
   "metadata": {},
   "outputs": [
    {
     "name": "stdout",
     "output_type": "stream",
     "text": [
      "2524.7448713915887 -1300.0 -1524.744871391589 2231.851652578136 -1524.744871391589 -1007.1067811865476 2007.1067811865476 -1300.0 -1007.1067811865476 300\n",
      "-2099474268.9863536 3384995461.688671 -367423461.41747665\n"
     ]
    }
   ],
   "source": [
    "print(a,b,c,d,e,f,g,h,i,z)\n",
    "print(A,B,C)"
   ]
  },
  {
   "cell_type": "code",
   "execution_count": 14,
   "metadata": {},
   "outputs": [
    {
     "name": "stdout",
     "output_type": "stream",
     "text": [
      "[12588.190451025206,\n",
      " -10000.0,\n",
      " -12588.190451025206,\n",
      " 22247.44871391589,\n",
      " -12588.190451025206,\n",
      " -19659.258262890682,\n",
      " 19659.258262890682,\n",
      " -10000.0,\n",
      " -19659.258262890682,\n",
      " 10000]\n",
      "[0.0, 2474744871391.589, 0.0]\n"
     ]
    }
   ],
   "source": [
    "pprint([a,b,c,d,e,f,g,h,i,z])\n",
    "pprint([A,B,C])"
   ]
  },
  {
   "cell_type": "code",
   "execution_count": 25,
   "metadata": {},
   "outputs": [
    {
     "name": "stdout",
     "output_type": "stream",
     "text": [
      "2560758005.7172074 -2922026814.087996 -3082074836.563159 1343869375.947594\n"
     ]
    }
   ],
   "source": [
    "print(a * f * i, - b * d * i ,- c * f * g , d * g * z)"
   ]
  },
  {
   "cell_type": "code",
   "execution_count": 20,
   "metadata": {},
   "outputs": [
    {
     "name": "stdout",
     "output_type": "stream",
     "text": [
      "32247.44871391589 -32247.44871391589 -27071.067811865476 27071.067811865476\n"
     ]
    }
   ],
   "source": [
    "print(a,c,i,g)"
   ]
  },
  {
   "cell_type": "code",
   "execution_count": 41,
   "metadata": {},
   "outputs": [
    {
     "name": "stdout",
     "output_type": "stream",
     "text": [
      "[[ 2524.74487139 -1300.         -1524.74487139   300.        ]\n",
      " [    0.             0.           707.10678119  -707.10678119]\n",
      " [    0.           707.10678119     0.          -707.10678119]\n",
      " [  707.10678119  -707.10678119     0.             0.        ]]\n",
      "3\n"
     ]
    }
   ],
   "source": [
    "P = np.array(\n",
    "    [\n",
    "        [a, b, c, z],\n",
    "        [0, 0, d + e, f + z],\n",
    "        [0, g + h, 0, i + z],\n",
    "        [d + e, f + z, 0, 0],\n",
    "    ]\n",
    ")\n",
    "print(P)\n",
    "print(np.linalg.matrix_rank(P))"
   ]
  },
  {
   "cell_type": "code",
   "execution_count": 47,
   "metadata": {},
   "outputs": [
    {
     "name": "stdout",
     "output_type": "stream",
     "text": [
      "[[ 2524.74487139 -1300.         -1524.74487139   300.        ]\n",
      " [    0.             0.           707.10678119  -707.10678119]\n",
      " [    0.           707.10678119     0.          -707.10678119]\n",
      " [  707.10678119  -707.10678119     0.             0.        ]]\n",
      "3\n"
     ]
    }
   ],
   "source": [
    "q=1\n",
    "P = np.array(\n",
    "    [\n",
    "        [a, b, c, z],\n",
    "        [0, 0, d*q + e, f*q + z],\n",
    "        [0, g*q + h, 0, i*q + z],\n",
    "        [d*q + e, f*q + z, 0, 0],\n",
    "    ]\n",
    ")\n",
    "print(P)\n",
    "print(np.linalg.matrix_rank(P))"
   ]
  },
  {
   "cell_type": "code",
   "execution_count": 132,
   "metadata": {},
   "outputs": [
    {
     "ename": "NameError",
     "evalue": "name 'd' is not defined",
     "output_type": "error",
     "traceback": [
      "\u001b[0;31m---------------------------------------------------------------------------\u001b[0m",
      "\u001b[0;31mNameError\u001b[0m                                 Traceback (most recent call last)",
      "\u001b[0;32m/var/folders/xt/02mw1qr55355x_tfz9rlb9z00000gn/T/ipykernel_21023/1377240906.py\u001b[0m in \u001b[0;36m<module>\u001b[0;34m\u001b[0m\n\u001b[1;32m      1\u001b[0m P1 = np.array(\n\u001b[1;32m      2\u001b[0m     [\n\u001b[0;32m----> 3\u001b[0;31m         \u001b[0;34m[\u001b[0m\u001b[0;36m0\u001b[0m\u001b[0;34m,\u001b[0m \u001b[0md\u001b[0m \u001b[0;34m*\u001b[0m \u001b[0mq\u001b[0m \u001b[0;34m+\u001b[0m \u001b[0me\u001b[0m\u001b[0;34m,\u001b[0m \u001b[0mf\u001b[0m \u001b[0;34m*\u001b[0m \u001b[0mq\u001b[0m \u001b[0;34m+\u001b[0m \u001b[0mz\u001b[0m\u001b[0;34m]\u001b[0m\u001b[0;34m,\u001b[0m\u001b[0;34m\u001b[0m\u001b[0;34m\u001b[0m\u001b[0m\n\u001b[0m\u001b[1;32m      4\u001b[0m         \u001b[0;34m[\u001b[0m\u001b[0mg\u001b[0m \u001b[0;34m*\u001b[0m \u001b[0mq\u001b[0m \u001b[0;34m+\u001b[0m \u001b[0mh\u001b[0m\u001b[0;34m,\u001b[0m \u001b[0;36m0\u001b[0m\u001b[0;34m,\u001b[0m \u001b[0mi\u001b[0m \u001b[0;34m*\u001b[0m \u001b[0mq\u001b[0m \u001b[0;34m+\u001b[0m \u001b[0mz\u001b[0m\u001b[0;34m]\u001b[0m\u001b[0;34m,\u001b[0m\u001b[0;34m\u001b[0m\u001b[0;34m\u001b[0m\u001b[0m\n\u001b[1;32m      5\u001b[0m         \u001b[0;34m[\u001b[0m\u001b[0mf\u001b[0m \u001b[0;34m*\u001b[0m \u001b[0mq\u001b[0m \u001b[0;34m+\u001b[0m \u001b[0mz\u001b[0m\u001b[0;34m,\u001b[0m \u001b[0;36m0\u001b[0m\u001b[0;34m,\u001b[0m \u001b[0;36m0\u001b[0m\u001b[0;34m]\u001b[0m\u001b[0;34m,\u001b[0m\u001b[0;34m\u001b[0m\u001b[0;34m\u001b[0m\u001b[0m\n",
      "\u001b[0;31mNameError\u001b[0m: name 'd' is not defined"
     ]
    }
   ],
   "source": [
    "P1 = np.array(\n",
    "    [\n",
    "        [0, d * q + e, f * q + z],\n",
    "        [g * q + h, 0, i * q + z],\n",
    "        [f * q + z, 0, 0],\n",
    "    ]\n",
    ")\n",
    "P2 = np.array(\n",
    "    [\n",
    "        [0, d * q + e, f * q + z],\n",
    "        [0, 0, i * q + z],\n",
    "        [d * q + e, 0, 0],\n",
    "    ]\n",
    ")\n",
    "P3 = np.array(\n",
    "    [\n",
    "        [0, 0, f * q + z],\n",
    "        [0, g * q + h, i * q + z],\n",
    "        [d * q + e, f * q + z, 0],\n",
    "    ]\n",
    ")\n",
    "P4 = np.array(\n",
    "    [\n",
    "        [0, 0, d * q + e],\n",
    "        [0, g * q + h, 0],\n",
    "        [d * q + e, f * q + z, 0],\n",
    "    ]\n",
    ")\n",
    "\n",
    "print(\n",
    "    a * np.linalg.det(P1)\n",
    "    - b * np.linalg.det(P2)\n",
    "    + c * np.linalg.det(P3)\n",
    "    - z * np.linalg.det(P4)\n",
    ")"
   ]
  },
  {
   "attachments": {},
   "cell_type": "markdown",
   "metadata": {},
   "source": [
    "3点アルゴリズムのモジュール化"
   ]
  },
  {
   "cell_type": "markdown",
   "metadata": {},
   "source": [
    "点の位置を未知数にするアプローチ"
   ]
  },
  {
   "cell_type": "code",
   "execution_count": 18,
   "metadata": {},
   "outputs": [
    {
     "name": "stdout",
     "output_type": "stream",
     "text": [
      "[[-1.0525725   0.          0.        ]\n",
      " [ 0.          0.51283875 -0.51283875]\n",
      " [ 1.          1.          1.        ]]\n",
      "[[   0.]\n",
      " [   0.]\n",
      " [1900.]]\n",
      "1.0 -1900.0 0.0 0.0 0.0\n",
      "1.0 -1900.0 -949442.9364406406 3607883158.474434 -3427489000550.713\n",
      "[]\n",
      "nan\n",
      "x [nan, nan, 1900.0]\n",
      "0.7369964164984375 -1900.0 0.0 0.0 0.0\n",
      "[array([nan, nan, nan]), array([nan, nan, nan])]\n",
      "[[-1999.88775      0.           0.      ]\n",
      " [    0.        2000.071125 -2000.071125]\n",
      " [ 1900.        3900.        3900.      ]]\n",
      "[[-1999.88775      0.           0.      ]\n",
      " [    0.        2000.071125 -2000.071125]\n",
      " [ 1900.        3900.        3900.      ]]\n",
      "[3.556186765427057e-05, 3.556186765427057e-05]\n"
     ]
    },
    {
     "name": "stderr",
     "output_type": "stream",
     "text": [
      "/var/folders/xt/02mw1qr55355x_tfz9rlb9z00000gn/T/ipykernel_83790/3269927432.py:47: RuntimeWarning: invalid value encountered in sqrt\n",
      "  x.append((-B + np.sqrt(B * B - 4 * A * C)) / (2 * A))\n",
      "/var/folders/xt/02mw1qr55355x_tfz9rlb9z00000gn/T/ipykernel_83790/3269927432.py:48: RuntimeWarning: invalid value encountered in sqrt\n",
      "  x.append((-B - np.sqrt(B * B - 4 * A * C)) / (2 * A))\n",
      "/var/folders/xt/02mw1qr55355x_tfz9rlb9z00000gn/T/ipykernel_83790/3269927432.py:49: RuntimeWarning: invalid value encountered in sqrt\n",
      "  print((-B + np.sqrt(B * B - 4 * A * C)) / (2 * A))\n"
     ]
    },
    {
     "ename": "LinAlgError",
     "evalue": "Singular matrix",
     "output_type": "error",
     "traceback": [
      "\u001b[0;31m---------------------------------------------------------------------------\u001b[0m",
      "\u001b[0;31mLinAlgError\u001b[0m                               Traceback (most recent call last)",
      "\u001b[0;32m/var/folders/xt/02mw1qr55355x_tfz9rlb9z00000gn/T/ipykernel_83790/3269927432.py\u001b[0m in \u001b[0;36m<module>\u001b[0;34m\u001b[0m\n\u001b[1;32m    127\u001b[0m \u001b[0;34m\u001b[0m\u001b[0m\n\u001b[1;32m    128\u001b[0m \u001b[0;34m\u001b[0m\u001b[0m\n\u001b[0;32m--> 129\u001b[0;31m \u001b[0;34m[\u001b[0m\u001b[0mc1_p_est\u001b[0m\u001b[0;34m,\u001b[0m \u001b[0mc2_p_est\u001b[0m\u001b[0;34m,\u001b[0m \u001b[0mR_est\u001b[0m\u001b[0;34m]\u001b[0m \u001b[0;34m=\u001b[0m \u001b[0msfm_by_orthogonal_three_points\u001b[0m\u001b[0;34m(\u001b[0m\u001b[0mp1\u001b[0m\u001b[0;34m,\u001b[0m \u001b[0mt\u001b[0m\u001b[0;34m)\u001b[0m\u001b[0;34m\u001b[0m\u001b[0;34m\u001b[0m\u001b[0m\n\u001b[0m\u001b[1;32m    130\u001b[0m \u001b[0;31m# [c1_p_est, c2_p_est, R_est] = utils.sfm_by_orthogonal_three_points(p1, t)\u001b[0m\u001b[0;34m\u001b[0m\u001b[0;34m\u001b[0m\u001b[0;34m\u001b[0m\u001b[0m\n\u001b[1;32m    131\u001b[0m \u001b[0;34m\u001b[0m\u001b[0m\n",
      "\u001b[0;32m/var/folders/xt/02mw1qr55355x_tfz9rlb9z00000gn/T/ipykernel_83790/3269927432.py\u001b[0m in \u001b[0;36msfm_by_orthogonal_three_points\u001b[0;34m(c1_P_dir, c1_t_c2)\u001b[0m\n\u001b[1;32m    106\u001b[0m     \u001b[0mc1_R_c2\u001b[0m \u001b[0;34m=\u001b[0m \u001b[0mc1_P_T\u001b[0m \u001b[0;34m/\u001b[0m \u001b[0mnp\u001b[0m\u001b[0;34m.\u001b[0m\u001b[0mlinalg\u001b[0m\u001b[0;34m.\u001b[0m\u001b[0mnorm\u001b[0m\u001b[0;34m(\u001b[0m\u001b[0mc1_P_T\u001b[0m\u001b[0;34m,\u001b[0m \u001b[0maxis\u001b[0m\u001b[0;34m=\u001b[0m\u001b[0;36m0\u001b[0m\u001b[0;34m)\u001b[0m\u001b[0;34m\u001b[0m\u001b[0;34m\u001b[0m\u001b[0m\n\u001b[1;32m    107\u001b[0m     \u001b[0mc1_M_c2\u001b[0m \u001b[0;34m=\u001b[0m \u001b[0mutils\u001b[0m\u001b[0;34m.\u001b[0m\u001b[0mpose_Rt2M\u001b[0m\u001b[0;34m(\u001b[0m\u001b[0mc1_R_c2\u001b[0m\u001b[0;34m,\u001b[0m \u001b[0mc1_t_c2\u001b[0m\u001b[0;34m)\u001b[0m\u001b[0;34m\u001b[0m\u001b[0;34m\u001b[0m\u001b[0m\n\u001b[0;32m--> 108\u001b[0;31m     \u001b[0mc2_P\u001b[0m \u001b[0;34m=\u001b[0m \u001b[0mutils\u001b[0m\u001b[0;34m.\u001b[0m\u001b[0mhomogeneous_transform\u001b[0m\u001b[0;34m(\u001b[0m\u001b[0mnp\u001b[0m\u001b[0;34m.\u001b[0m\u001b[0mlinalg\u001b[0m\u001b[0;34m.\u001b[0m\u001b[0minv\u001b[0m\u001b[0;34m(\u001b[0m\u001b[0mc1_M_c2\u001b[0m\u001b[0;34m)\u001b[0m\u001b[0;34m,\u001b[0m \u001b[0mc1_P\u001b[0m\u001b[0;34m)\u001b[0m\u001b[0;34m\u001b[0m\u001b[0;34m\u001b[0m\u001b[0m\n\u001b[0m\u001b[1;32m    109\u001b[0m     \u001b[0;32mreturn\u001b[0m \u001b[0;34m[\u001b[0m\u001b[0mc1_P\u001b[0m\u001b[0;34m,\u001b[0m \u001b[0mc2_P\u001b[0m\u001b[0;34m,\u001b[0m \u001b[0mc1_M_c2\u001b[0m\u001b[0;34m]\u001b[0m\u001b[0;34m\u001b[0m\u001b[0;34m\u001b[0m\u001b[0m\n\u001b[1;32m    110\u001b[0m \u001b[0;34m\u001b[0m\u001b[0m\n",
      "\u001b[0;32m~/.pyenv/versions/3.9.6/lib/python3.9/site-packages/numpy/core/overrides.py\u001b[0m in \u001b[0;36minv\u001b[0;34m(*args, **kwargs)\u001b[0m\n",
      "\u001b[0;32m~/.pyenv/versions/3.9.6/lib/python3.9/site-packages/numpy/linalg/linalg.py\u001b[0m in \u001b[0;36minv\u001b[0;34m(a)\u001b[0m\n\u001b[1;32m    536\u001b[0m     \u001b[0msignature\u001b[0m \u001b[0;34m=\u001b[0m \u001b[0;34m'D->D'\u001b[0m \u001b[0;32mif\u001b[0m \u001b[0misComplexType\u001b[0m\u001b[0;34m(\u001b[0m\u001b[0mt\u001b[0m\u001b[0;34m)\u001b[0m \u001b[0;32melse\u001b[0m \u001b[0;34m'd->d'\u001b[0m\u001b[0;34m\u001b[0m\u001b[0;34m\u001b[0m\u001b[0m\n\u001b[1;32m    537\u001b[0m     \u001b[0mextobj\u001b[0m \u001b[0;34m=\u001b[0m \u001b[0mget_linalg_error_extobj\u001b[0m\u001b[0;34m(\u001b[0m\u001b[0m_raise_linalgerror_singular\u001b[0m\u001b[0;34m)\u001b[0m\u001b[0;34m\u001b[0m\u001b[0;34m\u001b[0m\u001b[0m\n\u001b[0;32m--> 538\u001b[0;31m     \u001b[0mainv\u001b[0m \u001b[0;34m=\u001b[0m \u001b[0m_umath_linalg\u001b[0m\u001b[0;34m.\u001b[0m\u001b[0minv\u001b[0m\u001b[0;34m(\u001b[0m\u001b[0ma\u001b[0m\u001b[0;34m,\u001b[0m \u001b[0msignature\u001b[0m\u001b[0;34m=\u001b[0m\u001b[0msignature\u001b[0m\u001b[0;34m,\u001b[0m \u001b[0mextobj\u001b[0m\u001b[0;34m=\u001b[0m\u001b[0mextobj\u001b[0m\u001b[0;34m)\u001b[0m\u001b[0;34m\u001b[0m\u001b[0;34m\u001b[0m\u001b[0m\n\u001b[0m\u001b[1;32m    539\u001b[0m     \u001b[0;32mreturn\u001b[0m \u001b[0mwrap\u001b[0m\u001b[0;34m(\u001b[0m\u001b[0mainv\u001b[0m\u001b[0;34m.\u001b[0m\u001b[0mastype\u001b[0m\u001b[0;34m(\u001b[0m\u001b[0mresult_t\u001b[0m\u001b[0;34m,\u001b[0m \u001b[0mcopy\u001b[0m\u001b[0;34m=\u001b[0m\u001b[0;32mFalse\u001b[0m\u001b[0;34m)\u001b[0m\u001b[0;34m)\u001b[0m\u001b[0;34m\u001b[0m\u001b[0;34m\u001b[0m\u001b[0m\n\u001b[1;32m    540\u001b[0m \u001b[0;34m\u001b[0m\u001b[0m\n",
      "\u001b[0;32m~/.pyenv/versions/3.9.6/lib/python3.9/site-packages/numpy/linalg/linalg.py\u001b[0m in \u001b[0;36m_raise_linalgerror_singular\u001b[0;34m(err, flag)\u001b[0m\n\u001b[1;32m     87\u001b[0m \u001b[0;34m\u001b[0m\u001b[0m\n\u001b[1;32m     88\u001b[0m \u001b[0;32mdef\u001b[0m \u001b[0m_raise_linalgerror_singular\u001b[0m\u001b[0;34m(\u001b[0m\u001b[0merr\u001b[0m\u001b[0;34m,\u001b[0m \u001b[0mflag\u001b[0m\u001b[0;34m)\u001b[0m\u001b[0;34m:\u001b[0m\u001b[0;34m\u001b[0m\u001b[0;34m\u001b[0m\u001b[0m\n\u001b[0;32m---> 89\u001b[0;31m     \u001b[0;32mraise\u001b[0m \u001b[0mLinAlgError\u001b[0m\u001b[0;34m(\u001b[0m\u001b[0;34m\"Singular matrix\"\u001b[0m\u001b[0;34m)\u001b[0m\u001b[0;34m\u001b[0m\u001b[0;34m\u001b[0m\u001b[0m\n\u001b[0m\u001b[1;32m     90\u001b[0m \u001b[0;34m\u001b[0m\u001b[0m\n\u001b[1;32m     91\u001b[0m \u001b[0;32mdef\u001b[0m \u001b[0m_raise_linalgerror_nonposdef\u001b[0m\u001b[0;34m(\u001b[0m\u001b[0merr\u001b[0m\u001b[0;34m,\u001b[0m \u001b[0mflag\u001b[0m\u001b[0;34m)\u001b[0m\u001b[0;34m:\u001b[0m\u001b[0;34m\u001b[0m\u001b[0;34m\u001b[0m\u001b[0m\n",
      "\u001b[0;31mLinAlgError\u001b[0m: Singular matrix"
     ]
    }
   ],
   "source": [
    "def sfm_by_orthogonal_three_points(c1_P_dir, c1_t_c2):\n",
    "    print(c1_P_dir)\n",
    "    print(c1_t_c2)\n",
    "    # C1からの方向ベクトルと並進ベクトルからスケールを決定する\n",
    "    a = np.dot(c1_P_dir[:, 0], c1_P_dir[:, 1])\n",
    "    b = np.dot(c1_P_dir[:, 1], c1_P_dir[:, 2])\n",
    "    c = np.dot(c1_P_dir[:, 2], c1_P_dir[:, 0])\n",
    "    d = -np.dot(c1_P_dir[:, 0], c1_t_c2[:, 0])\n",
    "    e = -np.dot(c1_P_dir[:, 1], c1_t_c2[:, 0])\n",
    "    f = -np.dot(c1_P_dir[:, 2], c1_t_c2[:, 0])\n",
    "    g = np.dot(c1_t_c2[:, 0], c1_t_c2[:, 0])\n",
    "\n",
    "    Q_candiate = []\n",
    "    if len(Q_candiate) == 0:\n",
    "        # q1についての2次方程式を解く(ax+d)(Ax^2+Bx+C) = 0\n",
    "        A = c*e*e - a*f*e + a*b*g - d*b*e\n",
    "        B = 2*(c*e*g - f*d*e)\n",
    "        C = c*g*g - f*d*g\n",
    "        print(a,d,A,B,C)\n",
    "        if (a != 0 or d != 0) and (A != 0 or B != 0 or C != 0):  # (ax+d)(Ax^2+Bx+C) = 0 が自明でない場合\n",
    "            x = []\n",
    "            if A != 0:\n",
    "                x.append((-B + np.sqrt(B * B - 4 * A * C)) / (2 * A))\n",
    "                x.append((-B - np.sqrt(B * B - 4 * A * C)) / (2 * A))\n",
    "            elif B != 0:\n",
    "                x.append(-C/B)\n",
    "            if a != 0:\n",
    "                x.append(-d/a)\n",
    "            x = list(set(x))  # 重複を削除\n",
    "            for q1 in x:\n",
    "                if (a*q1 + e == 0 or c*q1 + f == 0):\n",
    "                    continue\n",
    "                q2 = -(d*q1 + g)/(a*q1 + e)\n",
    "                q3 = -(d*q1 + g)/(c*q1 + f)\n",
    "                Q_candiate.append(np.array([q1, q2, q3]))\n",
    "\n",
    "    # if len(Q_candiate) == 0:\n",
    "        # q2についての2次方程式を解く(cx+f)(Ax^2+Bx+C) = 0\n",
    "        A = b*d*d - c*e*d + c*a*g - f*a*d\n",
    "        B = 2*(b*d*g - e*f*d)\n",
    "        C = b*g*g - e*f*g\n",
    "        print(c, f, A, B, C)\n",
    "        if (c != 0 or f != 0) and (A != 0 or B != 0 or C != 0):  # (cx+f)(Ax^2+Bx+C) = 0 が自明でない場合\n",
    "            x = []\n",
    "            print(x)\n",
    "            if A != 0:\n",
    "                x.append((-B + np.sqrt(B * B - 4 * A * C)) / (2 * A))\n",
    "                x.append((-B - np.sqrt(B * B - 4 * A * C)) / (2 * A))\n",
    "                print((-B + np.sqrt(B * B - 4 * A * C)) / (2 * A))\n",
    "            elif B != 0:\n",
    "                print(B,C,C/B)\n",
    "                x.append(-C/B)\n",
    "            if c != 0:\n",
    "                x.append(-f/c)\n",
    "            print(\"x\",x)\n",
    "            x = list(set(x))  # 重複を削除\n",
    "            for q2 in x:\n",
    "                if (b*q2 + f == 0 or a*q2 + d == 0):\n",
    "                    continue\n",
    "                q3 = -(e*q2 + g)/(b*q2 + f)\n",
    "                q1 = -(e*q2 + g)/(a*q2 + d)\n",
    "                Q_candiate.append(np.array([q1, q2, q3]))\n",
    "\n",
    "    # if len(Q_candiate) == 0:\n",
    "        # q3についての2次方程式を解く(bx+e)(Ax^2+Bx+C) = 0\n",
    "        A = a*f*f - b*d*f + b*c*g - e*c*f\n",
    "        B = 2*(a*f*g - d*e*f)\n",
    "        C = a*g*g - d*e*g\n",
    "        print(b, e, A, B, C)\n",
    "        if (b != 0 or e != 0) and (A != 0 or B != 0 or C != 0):  # (bx+e)(Ax^2+Bx+C) = 0 が自明でない場合\n",
    "            x = []\n",
    "            if A != 0:\n",
    "                x.append((-B + np.sqrt(B * B - 4 * A * C)) / (2 * A))\n",
    "                x.append((-B - np.sqrt(B * B - 4 * A * C)) / (2 * A))\n",
    "            elif B != 0:\n",
    "                x.append(-C/B)\n",
    "            if b != 0:\n",
    "                x.append(-e/b)\n",
    "            x = list(set(x))  # 重複を削除\n",
    "            for q3 in x:\n",
    "                if (c*q3 + d == 0 or b*q3 + e == 0):\n",
    "                    continue\n",
    "                q1 = -(f*q3 + g)/(c*q3 + d)\n",
    "                q2 = -(f*q3 + g)/(b*q3 + e)\n",
    "                Q_candiate.append(np.array([q1, q2, q3]))\n",
    "\n",
    "    score = []\n",
    "    result_candidate = []\n",
    "    print(Q_candiate)\n",
    "    for Q in Q_candiate:\n",
    "        Q = np.array([1900, 3900, 3900])\n",
    "        \n",
    "        c1_P = Q * c1_P_dir\n",
    "        print(c1_P)\n",
    "        c1_P_T = c1_P - c1_t_c2\n",
    "        # 十分性チェック\n",
    "        cos12 = np.abs(np.dot(c1_P_T[:, 0], c1_P_T[:, 1]) / (np.linalg.norm(c1_P_T[:, 0]) * np.linalg.norm(c1_P_T[:, 1])))\n",
    "        cos23 = np.abs(np.dot(c1_P_T[:, 1], c1_P_T[:, 2]) / (np.linalg.norm(c1_P_T[:, 1]) * np.linalg.norm(c1_P_T[:, 2])))\n",
    "        cos31 = np.abs(np.dot(c1_P_T[:, 2], c1_P_T[:, 0]) / (np.linalg.norm(c1_P_T[:, 2]) * np.linalg.norm(c1_P_T[:, 0])))\n",
    "        score.append(cos12 + cos23 + cos31)\n",
    "    \n",
    "    print(score)\n",
    "    min_index = int(np.array(score).argmin())\n",
    "    c1_P = Q_candiate[min_index] * c1_P_dir    \n",
    "    c1_P_T = c1_P - c1_t_c2\n",
    "    c1_R_c2 = c1_P_T / np.linalg.norm(c1_P_T, axis=0)\n",
    "    c1_M_c2 = utils.pose_Rt2M(c1_R_c2, c1_t_c2)\n",
    "    c2_P = utils.homogeneous_transform(np.linalg.inv(c1_M_c2), c1_P)\n",
    "    return [c1_P, c2_P, c1_M_c2]\n",
    "\n",
    "\n",
    "R = Rotation.from_rotvec([0, 0, 0]).as_matrix()\n",
    "t = np.array([[30, 0, 10]]).T\n",
    "# R = np.eye(3)\n",
    "# t = np.array([[0, 0, 1]]).T\n",
    "T = np.vstack([np.hstack([R, t]), np.array([[0, 0, 0, 1]])])\n",
    "\n",
    "p1 = np.array([[-1.0525725,   0.,          0.],\n",
    "               [0.,         0.51283875, - 0.51283875],\n",
    "               [1.,        1.,          1.]])\n",
    "t = np.array([[0.],\n",
    "              [0.],\n",
    "              [1900.]])\n",
    "# print(T)\n",
    "# p2 = np.array([[10, 0, 0], [0, 500, 0], [0, 0, 100]]).T\n",
    "# p1 = utils.homogeneous_transform(T, p2)\n",
    "\n",
    "\n",
    "[c1_p_est, c2_p_est, R_est] = sfm_by_orthogonal_three_points(p1, t)\n",
    "# [c1_p_est, c2_p_est, R_est] = utils.sfm_by_orthogonal_three_points(p1, t)\n",
    "\n",
    "print(\"c1_p_est\", c1_p_est)\n",
    "print(\"c2_p_est\", c2_p_est)\n",
    "print(\"R_est\", R_est)\n"
   ]
  },
  {
   "cell_type": "code",
   "execution_count": 34,
   "metadata": {},
   "outputs": [
    {
     "data": {
      "text/plain": [
       "1"
      ]
     },
     "execution_count": 34,
     "metadata": {},
     "output_type": "execute_result"
    }
   ],
   "source": [
    "p1 = np.array([[-1.0525725,   0.,          0.],\n",
    "               [0.,         0.51283875, - 0.51283875],\n",
    "               [1.,        1.,          1.]])\n",
    "q1 = 2000/1.0525725\n",
    "q2 = 2000/51283875\n",
    "q3 = q2"
   ]
  },
  {
   "cell_type": "markdown",
   "metadata": {},
   "source": [
    "エピポーラベースのアプローチ"
   ]
  },
  {
   "cell_type": "code",
   "execution_count": 128,
   "metadata": {},
   "outputs": [
    {
     "name": "stdout",
     "output_type": "stream",
     "text": [
      "[[ 0.91163795 -0.25966635  0.31857439 30.        ]\n",
      " [ 0.31857439  0.93618296 -0.14856589 20.        ]\n",
      " [-0.25966635  0.23692794  0.93618296 10.        ]\n",
      " [ 0.          0.          0.          1.        ]]\n",
      "r1 [[ 0.91163795]\n",
      " [ 0.31857439]\n",
      " [-0.25966635]]\n",
      "1.0\n",
      "[ 2.07020230e+04 -2.23953629e-13  2.07020230e+04] [ 4.96356972e+03 -6.84745722e-13  4.96356972e+03]\n",
      "[[ 0.84169599 -0.13219971  0.21539753]\n",
      " [ 0.15116036 -0.27749452  0.52822193]\n",
      " [-0.51836127  0.95158816  0.82133154]] [[ 0.82088335  0.59706552  0.46264976]\n",
      " [ 0.52371581 -0.73563982  0.57539083]\n",
      " [ 0.22775486 -0.31991691  0.67444836]]\n",
      "[[  1936.93570598  -3908.13638056   2005.46564318]\n",
      " [  4065.7353564   -8203.39478022   4209.58349125]\n",
      " [-13942.27783073  28131.19870212 -14435.56391203]\n",
      " [ -1693.35308549   3416.6620906   -1753.26492472]\n",
      " [  2086.36727997  -4209.64301751   2160.18419512]\n",
      " [   907.32469655  -1830.70023678    939.42638391]]\n",
      "rank 1\n",
      "[[  1936.93570598  -3908.13638056   2005.46564318]\n",
      " [  4065.7353564   -8203.39478022   4209.58349125]\n",
      " [-13942.27783073  28131.19870212 -14435.56391203]]\n",
      "[[-6.19435752e-13]\n",
      " [ 3.94960234e-13]\n",
      " [ 7.48200620e-13]\n",
      " [ 1.21760029e-13]\n",
      " [ 1.89679565e-13]\n",
      " [-1.49990326e-15]]\n",
      "[[-3.91164630e-13]\n",
      " [ 1.73611748e-12]\n",
      " [-3.41031965e-12]\n",
      " [-1.39836702e-13]\n",
      " [ 6.79807382e-13]\n",
      " [ 8.81348415e-14]]\n",
      "[[-2.25031135e-13]\n",
      " [ 1.92006245e-12]\n",
      " [-3.66563290e-12]\n",
      " [-3.70686926e-13]\n",
      " [ 7.11265230e-13]\n",
      " [ 2.31740670e-13]]\n",
      "1\n"
     ]
    },
    {
     "ename": "TypeError",
     "evalue": "cannot unpack non-iterable NoneType object",
     "output_type": "error",
     "traceback": [
      "\u001b[0;31m---------------------------------------------------------------------------\u001b[0m",
      "\u001b[0;31mTypeError\u001b[0m                                 Traceback (most recent call last)",
      "\u001b[0;32m/var/folders/xt/02mw1qr55355x_tfz9rlb9z00000gn/T/ipykernel_3146/3872660922.py\u001b[0m in \u001b[0;36m<module>\u001b[0;34m\u001b[0m\n\u001b[1;32m    130\u001b[0m \u001b[0;31m# print(p1)\u001b[0m\u001b[0;34m\u001b[0m\u001b[0;34m\u001b[0m\u001b[0;34m\u001b[0m\u001b[0m\n\u001b[1;32m    131\u001b[0m \u001b[0;31m# print(R)\u001b[0m\u001b[0;34m\u001b[0m\u001b[0;34m\u001b[0m\u001b[0;34m\u001b[0m\u001b[0m\n\u001b[0;32m--> 132\u001b[0;31m \u001b[0;34m[\u001b[0m\u001b[0mp1_est\u001b[0m\u001b[0;34m,\u001b[0m \u001b[0mR_est\u001b[0m\u001b[0;34m]\u001b[0m \u001b[0;34m=\u001b[0m \u001b[0mthree_points_algorithm\u001b[0m\u001b[0;34m(\u001b[0m\u001b[0mp1\u001b[0m\u001b[0;34m/\u001b[0m\u001b[0;36m10\u001b[0m\u001b[0;34m,\u001b[0m \u001b[0mt\u001b[0m\u001b[0;34m,\u001b[0m \u001b[0mR\u001b[0m\u001b[0;34m)\u001b[0m\u001b[0;34m\u001b[0m\u001b[0;34m\u001b[0m\u001b[0m\n\u001b[0m",
      "\u001b[0;31mTypeError\u001b[0m: cannot unpack non-iterable NoneType object"
     ]
    }
   ],
   "source": [
    "def cross_to_matrix(v):\n",
    "    assert v.shape == (3, 1), \"invalid shape\"\n",
    "    return np.cross(v[:, 0], -np.identity(3))\n",
    "\n",
    "\n",
    "def three_points_algorithm(c1_P_dir, c1_t_c2, R):\n",
    "    c2_P_dir = np.array([[1, 0, 0], [0, 1, 0], [0, 0, 1]]).T\n",
    "    # C1からの方向ベクトルと並進ベクトルからスケールを決定する\n",
    "    t = utils.vect2col(c1_t_c2[:, 0])\n",
    "    p1 = utils.vect2col(c1_P_dir[:, 0])\n",
    "    p2 = utils.vect2col(c1_P_dir[:, 1])\n",
    "    p3 = utils.vect2col(c1_P_dir[:, 2])\n",
    "\n",
    "    r1 = utils.vect2col(R[:, 0])\n",
    "    r2 = utils.vect2col(R[:, 1])\n",
    "    r3 = utils.vect2col(R[:, 2])\n",
    "\n",
    "    u1 = (p1.T @ cross_to_matrix(t)).T\n",
    "    u2 = (p2.T @ cross_to_matrix(t)).T\n",
    "    u3 = (p3.T @ cross_to_matrix(t)).T\n",
    "\n",
    "    U1 = cross_to_matrix(u1)\n",
    "    U2 = cross_to_matrix(u2)\n",
    "    U3 = cross_to_matrix(u3)\n",
    "\n",
    "    # print([u1, r2, r3])\n",
    "    # print([u2, r1, r2])\n",
    "    # print([u3, r3, r1])\n",
    "\n",
    "    print(\"r1\", r1)\n",
    "    print(np.linalg.norm(r1))\n",
    "\n",
    "    # v = np.linalg.eig(U1@U2)[1][0:1,:].T\n",
    "    # V = np.linalg.eig(U1@U2)[1]\n",
    "    # V_norm = np.linalg.norm(V, axis=0)\n",
    "    # v = V[:,0:1]\n",
    "    # print(V)\n",
    "    # print(V_norm)\n",
    "    # print(v)\n",
    "    # print(U1@U2 @ v)\n",
    "    # [l, v]  =  np.linalg.eig(U1@U2)\n",
    "    # v1 = utils.vect2col(v[:,0])\n",
    "    # v2 = utils.vect2col(v[:,1])\n",
    "    # v3 = utils.vect2col(v[:,2])\n",
    "\n",
    "    [l1, v1] = np.linalg.eig(U1@U2)\n",
    "    [l2, v2] = np.linalg.eig(U1@U3)\n",
    "\n",
    "    print(l1, l2)\n",
    "    print(v1, v2)\n",
    "    # print(l2)\n",
    "    # print(v2)\n",
    "    \n",
    "\n",
    "\n",
    "    A1 = U1@U2-l1[0]*np.identity(3)\n",
    "    A2 = U1@U3-l2[0]*np.identity(3)\n",
    "    A12 = np.vstack([A1, A2])\n",
    "    print(A12)\n",
    "    print(\"rank\", np.linalg.matrix_rank(A12))\n",
    "    print(A)\n",
    "    print(A12@utils.vect2col(v1[:,0]))\n",
    "    print(A12@utils.vect2col(v2[:,0]))\n",
    "    print(A12@r1)\n",
    "    print(np.linalg.matrix_rank(np.vstack([A12, u1.T])))\n",
    "\n",
    "    # print(A2)\n",
    "\n",
    "    # v1_ = U1@U2@v1\n",
    "    # v2_ = U1@U2@v2\n",
    "    # v3_ = U1@U2@v3\n",
    "    # r1_ = U1@U2@r1\n",
    "\n",
    "    # v1_norm = np.linalg.norm(v1_) / np.linalg.norm(v1)\n",
    "    # v2_norm = np.linalg.norm(v2_) / np.linalg.norm(v2)\n",
    "    # v3_norm = np.linalg.norm(v3_) / np.linalg.norm(v3)\n",
    "    # r1_norm = np.linalg.norm(r1_) / np.linalg.norm(r1)\n",
    "    # print(np.hstack([v1, v2, v3, r1]))\n",
    "    # print([v1_norm, v2_norm, v3_norm, r1_norm])\n",
    "\n",
    "    # print(U1@U2 + 114.94496960738734*np.identity(3))\n",
    "    # print( np.linalg.eig(U1@U3)[1])\n",
    "    # print( np.linalg.eig(U2@U1)[1])\n",
    "    # print( np.linalg.eig(U2@U3)[1])\n",
    "    # print( np.linalg.eig(U3@U1)[1])\n",
    "    # print( np.linalg.eig(U3@U2)[1])\n",
    "\n",
    "    # print(Q_candiate)\n",
    "    # for Q in Q_candiate:\n",
    "    #     c1_P = Q * c1_P_dir\n",
    "    #     c2_P = c1_P - c1_t_c2\n",
    "    #     # validation\n",
    "    #     v1 = c2_P[:,1] - c2_P[:,0]\n",
    "    #     v2 = c2_P[:,2] - c2_P[:,0]\n",
    "    #     abs_cos = np.abs(np.dot(v1, v2) / (np.linalg.norm(v1) * np.linalg.norm(v2)))\n",
    "    #     if abs_cos < 0.001:\n",
    "    #         continue\n",
    "    #     print(\"p1\", c1_P)\n",
    "    #     print(\"p2\", c2_P)\n",
    "    #     c1_R_c2 = c2_P / np.linalg.norm(c2_P, axis=0)\n",
    "\n",
    "    # return [c1_P, c1_R_c2]\n",
    "\n",
    "    # # 不適な解の除外\n",
    "    # for\n",
    "    # q3 = np.array([x_a, x_b])\n",
    "    # q1 = -1*(i * q3+z)/(g*q3+h)\n",
    "    # q2 = -1*(f * q3+z)/(d*q3+e)\n",
    "    # c1_P_a = np.array([[q1[0], q2[0], q3[0]]]) * c1_P_dir\n",
    "    # c1_P_b = np.array([[q1[1], q2[1], q3[1]]]) * c1_P_dir\n",
    "    # c1_P = c1_P_a if q1[0] > 0 and q2[0] > 0 and q3[0] > 0 else c1_P_b\n",
    "    # Q_candiate = c1_P - t\n",
    "    # c1_R_c2 = Q_candiate / np.linalg.norm(Q_candiate, axis=0)\n",
    "\n",
    "    # return [c1_P, c1_R_c2]\n",
    "\n",
    "\n",
    "R = Rotation.from_rotvec([0.2, 0.3, 0.3]).as_matrix()\n",
    "t = np.array([[30, 20, 10]]).T\n",
    "# R = np.eye(3)\n",
    "# t = np.array([[0, 0, 1]]).T\n",
    "T = np.vstack([np.hstack([R, t]), np.array([[0, 0, 0, 1]])])\n",
    "print(T)\n",
    "p2 = np.array([[10, 0, 0], [0, 500, 0], [0, 0, 100]]).T\n",
    "p1 = utils.homogeneous_transform(T, p2)\n",
    "\n",
    "# p1[:,0] = p1[:,0] / np.linalg.norm(p1[:,0])\n",
    "# p1[:,1] = p1[:,1] / np.linalg.norm(p1[:,1])\n",
    "# p1[:,2] = p1[:,2] / np.linalg.norm(p1[:,2])\n",
    "# print(p1)\n",
    "# print(R)\n",
    "[p1_est, R_est] = three_points_algorithm(p1/10, t, R)\n"
   ]
  },
  {
   "cell_type": "code",
   "execution_count": 106,
   "metadata": {},
   "outputs": [
    {
     "data": {
      "text/plain": [
       "array([-0.,  0.,  0.])"
      ]
     },
     "execution_count": 106,
     "metadata": {},
     "output_type": "execute_result"
    }
   ],
   "source": [
    "A = np.array([[1936.93570598, - 3908.13638056,   2005.46564318],\n",
    "              [4065.7353564, - 8203.39478022,  4209.58349125],\n",
    "              [-13942.27783073, 28131.19870212, - 14435.56391203]]\n",
    "             )\n",
    "np.linalg.solve(A, np.array([0, 0, 0]))\n"
   ]
  },
  {
   "attachments": {},
   "cell_type": "markdown",
   "metadata": {},
   "source": [
    "3点法テスト"
   ]
  },
  {
   "cell_type": "code",
   "execution_count": 19,
   "metadata": {},
   "outputs": [
    {
     "name": "stdout",
     "output_type": "stream",
     "text": [
      "[[ 0.97512475 -0.19303094  0.1089531 ]\n",
      " [ 0.20298104  0.97512475 -0.0890529 ]\n",
      " [-0.0890529   0.1089531   0.9900499 ]]\n",
      "[[ 0.98326332 -0.64045634 -0.44925621]\n",
      " [ 0.0496619  -0.20934212  0.73991553]\n",
      " [-0.17529104  0.73891241  0.50069338]]\n",
      "[[ 0.98326332]\n",
      " [ 0.0496619 ]\n",
      " [-0.17529104]]\n",
      "[[ 7762.49995581]\n",
      " [  392.06235929]\n",
      " [-1383.85787334]]\n"
     ]
    },
    {
     "ename": "NameError",
     "evalue": "name 'Q_candiate' is not defined",
     "output_type": "error",
     "traceback": [
      "\u001b[0;31m---------------------------------------------------------------------------\u001b[0m",
      "\u001b[0;31mNameError\u001b[0m                                 Traceback (most recent call last)",
      "\u001b[0;32m/var/folders/xt/02mw1qr55355x_tfz9rlb9z00000gn/T/ipykernel_3146/3059663286.py\u001b[0m in \u001b[0;36m<module>\u001b[0;34m\u001b[0m\n\u001b[1;32m     14\u001b[0m \u001b[0;31m# print(p1)\u001b[0m\u001b[0;34m\u001b[0m\u001b[0;34m\u001b[0m\u001b[0;34m\u001b[0m\u001b[0m\n\u001b[1;32m     15\u001b[0m \u001b[0;31m# print(R)\u001b[0m\u001b[0;34m\u001b[0m\u001b[0;34m\u001b[0m\u001b[0;34m\u001b[0m\u001b[0m\n\u001b[0;32m---> 16\u001b[0;31m \u001b[0;34m[\u001b[0m\u001b[0mp1_est\u001b[0m\u001b[0;34m,\u001b[0m \u001b[0mR_est\u001b[0m\u001b[0;34m]\u001b[0m \u001b[0;34m=\u001b[0m \u001b[0mthree_points_algorithm\u001b[0m\u001b[0;34m(\u001b[0m\u001b[0mp1\u001b[0m\u001b[0;34m/\u001b[0m\u001b[0;36m10\u001b[0m\u001b[0;34m,\u001b[0m \u001b[0mt\u001b[0m\u001b[0;34m)\u001b[0m\u001b[0;34m\u001b[0m\u001b[0;34m\u001b[0m\u001b[0m\n\u001b[0m\u001b[1;32m     17\u001b[0m \u001b[0;31m# pprint(P1)\u001b[0m\u001b[0;34m\u001b[0m\u001b[0;34m\u001b[0m\u001b[0;34m\u001b[0m\u001b[0m\n\u001b[1;32m     18\u001b[0m \u001b[0;31m# pprint(P2)\u001b[0m\u001b[0;34m\u001b[0m\u001b[0;34m\u001b[0m\u001b[0;34m\u001b[0m\u001b[0m\n",
      "\u001b[0;32m/var/folders/xt/02mw1qr55355x_tfz9rlb9z00000gn/T/ipykernel_3146/2049929778.py\u001b[0m in \u001b[0;36mthree_points_algorithm\u001b[0;34m(c1_P_dir, c1_t_c2)\u001b[0m\n\u001b[1;32m     24\u001b[0m     \u001b[0;31m# print( np.linalg.eig(U3@U2))\u001b[0m\u001b[0;34m\u001b[0m\u001b[0;34m\u001b[0m\u001b[0;34m\u001b[0m\u001b[0m\n\u001b[1;32m     25\u001b[0m \u001b[0;34m\u001b[0m\u001b[0m\n\u001b[0;32m---> 26\u001b[0;31m     \u001b[0mprint\u001b[0m\u001b[0;34m(\u001b[0m\u001b[0mQ_candiate\u001b[0m\u001b[0;34m)\u001b[0m\u001b[0;34m\u001b[0m\u001b[0;34m\u001b[0m\u001b[0m\n\u001b[0m\u001b[1;32m     27\u001b[0m     \u001b[0;32mfor\u001b[0m \u001b[0mQ\u001b[0m \u001b[0;32min\u001b[0m \u001b[0mQ_candiate\u001b[0m\u001b[0;34m:\u001b[0m\u001b[0;34m\u001b[0m\u001b[0;34m\u001b[0m\u001b[0m\n\u001b[1;32m     28\u001b[0m         \u001b[0mc1_P\u001b[0m \u001b[0;34m=\u001b[0m \u001b[0mQ\u001b[0m \u001b[0;34m*\u001b[0m \u001b[0mc1_P_dir\u001b[0m\u001b[0;34m\u001b[0m\u001b[0;34m\u001b[0m\u001b[0m\n",
      "\u001b[0;31mNameError\u001b[0m: name 'Q_candiate' is not defined"
     ]
    }
   ],
   "source": [
    "R = Rotation.from_rotvec([0.1, 0.1, 0.2]).as_matrix()\n",
    "t = np.array([[5, 20, 10]]).T\n",
    "\n",
    "print(R)\n",
    "# R = np.eye(3)\n",
    "# t = np.array([[0, 0, 1]]).T\n",
    "T = np.vstack([np.hstack([R, t]), np.array([[0, 0, 0, 1]])])\n",
    "p2 = np.array([[10, 0, 0], [0, 500, 0], [0, 0, 100]]).T\n",
    "p1 = utils.homogeneous_transform(T, p2)\n",
    "\n",
    "# p1[:,0] = p1[:,0] / np.linalg.norm(p1[:,0])\n",
    "# p1[:,1] = p1[:,1] / np.linalg.norm(p1[:,1])\n",
    "# p1[:,2] = p1[:,2] / np.linalg.norm(p1[:,2])\n",
    "# print(p1)\n",
    "# print(R)\n",
    "[p1_est, R_est] = three_points_algorithm(p1/10, t)\n",
    "# pprint(P1)\n",
    "# pprint(P2)\n",
    "print(\"--------------------\")\n",
    "print(p1)\n",
    "print(R)\n",
    "print(p1_est)\n",
    "print(R_est)"
   ]
  },
  {
   "cell_type": "markdown",
   "metadata": {},
   "source": [
    "3点法モジュール線形バージョン（ボツ）"
   ]
  },
  {
   "cell_type": "code",
   "execution_count": 105,
   "metadata": {},
   "outputs": [],
   "source": [
    "def three_points_algorithm(c1_P_dir, c1_t_c2):\n",
    "    c2_P_dir = np.array([[1, 0, 0], [0, 1, 0], [0, 0, 1]]).T\n",
    "    # C1からの方向ベクトルと並進ベクトルからスケールを決定する\n",
    "    a = np.dot(c1_P_dir[:, 0], c1_P_dir[:, 1])\n",
    "    b = np.dot(c1_P_dir[:, 1], c1_P_dir[:, 2])\n",
    "    c = np.dot(c1_P_dir[:, 2], c1_P_dir[:, 0])\n",
    "    d = -np.dot(c1_P_dir[:, 0], c1_t_c2[:, 0])\n",
    "    e = -np.dot(c1_P_dir[:, 1], c1_t_c2[:, 0])\n",
    "    f = -np.dot(c1_P_dir[:, 2], c1_t_c2[:, 0])\n",
    "    g = np.dot(c1_t_c2[:, 0], c1_t_c2[:, 0])\n",
    "\n",
    "    # A = np.array([\n",
    "    #     [a, 0, 0, d, e, 0],\n",
    "    #     [0, b, 0, 0, e, f],\n",
    "    #     [0, 0, c, d, 0, f],\n",
    "    #     [-a*c*e, b*c*e, b*c*d-a*c*f, -a*c*g, 0, b*c*g],\n",
    "    #     [a*c*e-a*b*d, -a*b*f, a*c*f, a*c*g, -a*b*g, 0],\n",
    "    #     [a*b*d, a*b*f-b*c*e, -b*c*d, 0, a*b*g, -b*c*g],\n",
    "    # ])\n",
    "    # B = -np.array([[g, g, g, 0, 0, 0]]).T\n",
    "\n",
    "    # A = np.array([\n",
    "    #     [-a*c*g + a*f*d - b*d*d + c*e*d, 0, a*f*f + b*c*g - b*d*f - c*e*f],\n",
    "    #     [b*d*d + c*a*g - c*e*d - a*f*d, -b*a*g + b*d*e - c*e*e + a*f*e, 0],\n",
    "    #     [0, c*e*e + a*b*g - a*f*e - b*d*e, -c*b*g + c*e*f - a*f*f + b*d*f],\n",
    "    # ])\n",
    "    # B= np.array([\n",
    "    #     [a*f*g - b*d*g],\n",
    "    #     [b*d*g - c*e*g],\n",
    "    #     [c*e*g - a*f*g],\n",
    "    # ])\n",
    "    # print(\"A\", A)\n",
    "\n",
    "    # x = np.linalg.inv(A) @ B\n",
    "    # x_ = np.linalg.solve(A, B)\n",
    "    # print(np.linalg.inv(A))\n",
    "    # print(A@x)\n",
    "    # print(A @ np.array([\n",
    "    #     [1, 1, 1],\n",
    "    # ]).T)\n",
    "\n",
    "    # # kenzan_true = np.array([\n",
    "    # #     [a, 0, 0, d, e, 0, g],\n",
    "    # #     [0, b, 0, 0, e, f, g],\n",
    "    # #     [0, 0, c, d, 0, f, g],\n",
    "    # # ]) @ np.array([\n",
    "    # #     [1, 1, 1, 1, 1, 1, 1],\n",
    "    # # ]).T\n",
    "\n",
    "    # # kenzan_est = np.array([\n",
    "    # #     [a, 0, 0, d, e, 0, g],\n",
    "    # #     [0, b, 0, 0, e, f, g],\n",
    "    # #     [0, 0, c, d, 0, f, g],\n",
    "    # # ]) @ np.vstack([x,1])\n",
    "    # # print(\"kenzan_true\", kenzan_true)\n",
    "    # # print(\"kenzan_est\", kenzan_est)\n",
    "\n",
    "    # print(\"q\", x)\n",
    "    # print(\"q_\", x_)\n",
    "    # # [q1q2, q2q3, q3q1, q1, q2, q3]= x\n",
    "    # [q1, q2, q3] = x\n",
    "    # c1_P = np.array([[q1, q2, q3]]) * c1_P_dir\n",
    "    # Q = c1_P - c1_t_c2\n",
    "    # c1_R_c2 = Q / np.linalg.norm(Q, axis=0)\n",
    "    # return [c1_P, c1_R_c2]\n",
    "\n",
    "    # 不適な解の除外\n",
    "    # q3 = np.array([x_a, x_b])\n",
    "    # q1 = -1*(i *q3+z)/(g*q3+h)\n",
    "    # q2 = -1*(f *q3+z)/(d*q3+e)\n",
    "    # c1_P_a = np.array([[q1[0], q2[0], q3[0]]]) * c1_P_dir\n",
    "    # c1_P_b = np.array([[q1[1], q2[1], q3[1]]]) * c1_P_dir\n",
    "    # c1_P = c1_P_a if q1[0] > 0 and q2[0] > 0 and q3[0] > 0 else c1_P_b\n",
    "    # Q = c1_P - t\n",
    "    # c1_R_c2 = Q / np.linalg.norm(Q, axis=0)\n",
    "\n",
    "    # return [c1_P, c1_R_c2]\n"
   ]
  },
  {
   "attachments": {},
   "cell_type": "markdown",
   "metadata": {},
   "source": [
    "### 5点法テスト"
   ]
  },
  {
   "cell_type": "code",
   "execution_count": 43,
   "metadata": {},
   "outputs": [
    {
     "name": "stdout",
     "output_type": "stream",
     "text": [
      "array([[  11.40840259,   99.91831948, 1000.09864303],\n",
      "       [  11.07107876,  100.75180965, 1000.5362579 ],\n",
      "       [  10.31272306,  100.70348079, 1001.18630479],\n",
      "       [   9.89169119,   99.82166176, 1001.39873681],\n",
      "       [  10.22901502,   98.98817159, 1000.96112195],\n",
      "       [  10.98737072,   99.03650045, 1000.31107506]])\n",
      "array([[ 0.7583557 ,  0.04832886,  0.65004689],\n",
      "       [ 0.04832886,  0.99033423, -0.13000938],\n",
      "       [-0.65004689,  0.13000938,  0.74868992]])\n",
      "array([[0.01135122, 0.09941752, 0.99508608],\n",
      "       [0.01101559, 0.10024683, 0.9955215 ],\n",
      "       [0.01026104, 0.10019875, 0.99616829],\n",
      "       [0.00984211, 0.09932135, 0.99637966],\n",
      "       [0.01017775, 0.09849204, 0.99594424],\n",
      "       [0.0109323 , 0.09854012, 0.99529745]])\n",
      "array([[ 9.94987935e-04,  0.00000000e+00,  9.94987935e-04],\n",
      "       [ 4.97493967e-04,  8.61684828e-04,  9.94987935e-04],\n",
      "       [-4.97493967e-04,  8.61684828e-04,  9.94987935e-04],\n",
      "       [-9.94987935e-04,  1.21850879e-19,  9.94987935e-04],\n",
      "       [-4.97493967e-04, -8.61684828e-04,  9.94987935e-04],\n",
      "       [ 4.97493967e-04, -8.61684828e-04,  9.94987935e-04]])\n",
      "array([[ 0.7583557 ,  0.04832886,  0.65004689,  0.00994988],\n",
      "       [ 0.04832886,  0.99033423, -0.13000938,  0.09949879],\n",
      "       [-0.65004689,  0.13000938,  0.74868992,  0.99498793],\n",
      "       [ 0.        ,  0.        ,  0.        ,  1.        ]])\n"
     ]
    }
   ],
   "source": [
    "R = Rotation.from_rotvec([10, 50, 0]).as_matrix()\n",
    "t = np.array([[10, 100, 1000]]).T\n",
    "T = np.vstack([np.hstack([R, t]), np.array([[0, 0, 0, 1]])])\n",
    "n = 6\n",
    "p2 = np.array(\n",
    "        [[np.cos(i * np.pi / n * 2), np.sin(i * np.pi / n * 2), 1] for i in range(n)]\n",
    "    ).T\n",
    "p1 = utils.homogeneous_transform(T, p2)\n",
    "\n",
    "pprint(p1.T)\n",
    "pprint(R)\n",
    "[P1, P2, M]  = utils.sfm_by_five_points(p1, p2)\n",
    "pprint(P1.T)\n",
    "pprint(P2.T)\n",
    "pprint(M)\n"
   ]
  },
  {
   "cell_type": "code",
   "execution_count": 32,
   "metadata": {},
   "outputs": [
    {
     "data": {
      "text/plain": [
       "6"
      ]
     },
     "execution_count": 32,
     "metadata": {},
     "output_type": "execute_result"
    }
   ],
   "source": [
    "Points"
   ]
  },
  {
   "cell_type": "code",
   "execution_count": 8,
   "metadata": {},
   "outputs": [
    {
     "name": "stdout",
     "output_type": "stream",
     "text": [
      "[Line3D(Point3D(0, 0, 0), Point3D(1, 1, 1))]\n"
     ]
    }
   ],
   "source": [
    "from sympy import *\n",
    "# 曲面を方程式で定義\n",
    "x, y, z = symbols('x y z')\n",
    "f = x**2 + y**2 + z**2 - 5\n",
    "# 直線を点と方向ベクトルで定義\n",
    "p0 = Point3D(0, 0, 0)\n",
    "v0 = Point3D(1, 1, 1)\n",
    "l = Line3D(p0, direction_ratio=v0)\n",
    "# 交点を求める\n",
    "# intersection = l.intersection(f)\n",
    "c = Curve\n",
    "result = intersection(l, l)\n",
    "print(result)"
   ]
  },
  {
   "cell_type": "code",
   "execution_count": 14,
   "metadata": {},
   "outputs": [
    {
     "ename": "TypeError",
     "evalue": "'Equality' object is not iterable",
     "output_type": "error",
     "traceback": [
      "\u001b[0;31m---------------------------------------------------------------------------\u001b[0m",
      "\u001b[0;31mTypeError\u001b[0m                                 Traceback (most recent call last)",
      "\u001b[0;32m/var/folders/xt/02mw1qr55355x_tfz9rlb9z00000gn/T/ipykernel_2716/2162232550.py\u001b[0m in \u001b[0;36m<module>\u001b[0;34m\u001b[0m\n\u001b[1;32m     28\u001b[0m \u001b[0;34m\u001b[0m\u001b[0m\n\u001b[1;32m     29\u001b[0m \u001b[0;31m# 交点を出す関数を呼び出す\u001b[0m\u001b[0;34m\u001b[0m\u001b[0;34m\u001b[0m\u001b[0;34m\u001b[0m\u001b[0m\n\u001b[0;32m---> 30\u001b[0;31m \u001b[0mpoint\u001b[0m \u001b[0;34m=\u001b[0m \u001b[0mintersection_point\u001b[0m\u001b[0;34m(\u001b[0m\u001b[0mv\u001b[0m\u001b[0;34m,\u001b[0m \u001b[0mf\u001b[0m\u001b[0;34m)\u001b[0m\u001b[0;34m\u001b[0m\u001b[0;34m\u001b[0m\u001b[0m\n\u001b[0m\u001b[1;32m     31\u001b[0m \u001b[0;32mif\u001b[0m \u001b[0mpoint\u001b[0m\u001b[0;34m:\u001b[0m\u001b[0;34m\u001b[0m\u001b[0;34m\u001b[0m\u001b[0m\n\u001b[1;32m     32\u001b[0m   \u001b[0mprint\u001b[0m\u001b[0;34m(\u001b[0m\u001b[0;34mf\"交点は{point}です。\"\u001b[0m\u001b[0;34m)\u001b[0m\u001b[0;34m\u001b[0m\u001b[0;34m\u001b[0m\u001b[0m\n",
      "\u001b[0;32m/var/folders/xt/02mw1qr55355x_tfz9rlb9z00000gn/T/ipykernel_2716/2162232550.py\u001b[0m in \u001b[0;36mintersection_point\u001b[0;34m(v, f)\u001b[0m\n\u001b[1;32m     13\u001b[0m   \u001b[0;31m# 方程式を連立して解く\u001b[0m\u001b[0;34m\u001b[0m\u001b[0;34m\u001b[0m\u001b[0;34m\u001b[0m\u001b[0m\n\u001b[1;32m     14\u001b[0m   \u001b[0msol\u001b[0m \u001b[0;34m=\u001b[0m \u001b[0msp\u001b[0m\u001b[0;34m.\u001b[0m\u001b[0msolve\u001b[0m\u001b[0;34m(\u001b[0m\u001b[0;34m[\u001b[0m\u001b[0msurface\u001b[0m\u001b[0;34m.\u001b[0m\u001b[0msubs\u001b[0m\u001b[0;34m(\u001b[0m\u001b[0;34m{\u001b[0m\u001b[0mx\u001b[0m\u001b[0;34m:\u001b[0m\u001b[0mr\u001b[0m\u001b[0;34m[\u001b[0m\u001b[0;36m0\u001b[0m\u001b[0;34m]\u001b[0m\u001b[0;34m,\u001b[0m \u001b[0my\u001b[0m\u001b[0;34m:\u001b[0m\u001b[0mr\u001b[0m\u001b[0;34m[\u001b[0m\u001b[0;36m1\u001b[0m\u001b[0;34m]\u001b[0m\u001b[0;34m,\u001b[0m \u001b[0mz\u001b[0m\u001b[0;34m:\u001b[0m\u001b[0mr\u001b[0m\u001b[0;34m[\u001b[0m\u001b[0;36m2\u001b[0m\u001b[0;34m]\u001b[0m\u001b[0;34m}\u001b[0m\u001b[0;34m)\u001b[0m\u001b[0;34m,\u001b[0m \u001b[0mt\u001b[0m \u001b[0;34m>=\u001b[0m \u001b[0;36m0\u001b[0m\u001b[0;34m]\u001b[0m\u001b[0;34m,\u001b[0m \u001b[0mt\u001b[0m\u001b[0;34m)\u001b[0m\u001b[0;34m\u001b[0m\u001b[0;34m\u001b[0m\u001b[0m\n\u001b[0;32m---> 15\u001b[0;31m   \u001b[0msol\u001b[0m \u001b[0;34m=\u001b[0m \u001b[0mlist\u001b[0m\u001b[0;34m(\u001b[0m\u001b[0msol\u001b[0m\u001b[0;34m)\u001b[0m \u001b[0;31m# ここを追加\u001b[0m\u001b[0;34m\u001b[0m\u001b[0;34m\u001b[0m\u001b[0m\n\u001b[0m\u001b[1;32m     16\u001b[0m   \u001b[0mprint\u001b[0m\u001b[0;34m(\u001b[0m\u001b[0msol\u001b[0m\u001b[0;34m)\u001b[0m\u001b[0;34m\u001b[0m\u001b[0;34m\u001b[0m\u001b[0m\n\u001b[1;32m     17\u001b[0m   \u001b[0;31m# 解が存在する場合は、交点の座標を返す\u001b[0m\u001b[0;34m\u001b[0m\u001b[0;34m\u001b[0m\u001b[0;34m\u001b[0m\u001b[0m\n",
      "\u001b[0;31mTypeError\u001b[0m: 'Equality' object is not iterable"
     ]
    }
   ],
   "source": [
    "import matplotlib.pyplot as plt\n",
    "from mpl_toolkits.mplot3d import Axes3D\n",
    "import numpy as np\n",
    "import sympy as sp\n",
    "\n",
    "# 半直線と陰関数の交点を出す関数\n",
    "def intersection_point(v, f):\n",
    "  # 方向ベクトルと陰関数から半直線と曲面の方程式を作る\n",
    "  x, y, z, t = sp.symbols('x y z t')\n",
    "  a, b, c = v\n",
    "  r = sp.Matrix([t*a, t*b, t*c])\n",
    "  surface = sp.Eq(f(x, y, z), 0)\n",
    "  # 方程式を連立して解く\n",
    "  sol = sp.solve([surface.subs({x:r[0], y:r[1], z:r[2]}), t >= 0], t)\n",
    "  sol = list(sol) # ここを追加\n",
    "  print(sol)\n",
    "  # 解が存在する場合は、交点の座標を返す\n",
    "  if True:\n",
    "    t_value = sol[0][0]\n",
    "    point = r.subs(t, t_value)\n",
    "    return point\n",
    "  else:\n",
    "    return None\n",
    "\n",
    "# 方向ベクトルと陰関数の例\n",
    "v = (1, 2, 3)\n",
    "f = lambda x, y, z: x**2 + y**2 + z**2 - 25\n",
    "\n",
    "# 交点を出す関数を呼び出す\n",
    "point = intersection_point(v, f)\n",
    "if point:\n",
    "  print(f\"交点は{point}です。\")\n",
    "else:\n",
    "  print(\"交点はありません。\")\n"
   ]
  },
  {
   "cell_type": "code",
   "execution_count": 45,
   "metadata": {},
   "outputs": [
    {
     "name": "stdout",
     "output_type": "stream",
     "text": [
      "[5*sqrt(14)/14]\n",
      "交点は[5*sqrt(14)/14 5*sqrt(14)/7 15*sqrt(14)/14]です。\n"
     ]
    }
   ],
   "source": [
    "import matplotlib.pyplot as plt\n",
    "from mpl_toolkits.mplot3d import Axes3D\n",
    "import numpy as np\n",
    "import sympy as sp\n",
    "\n",
    "# 半直線と陰関数の交点を出す関数\n",
    "def intersection_point(v, f_list):\n",
    "    # 方向ベクトルと陰関数から半直線と曲面の方程式を作る\n",
    "    t = sp.symbols('t')\n",
    "    a, b, c = v\n",
    "    eq_list = [f(t*a, t*b, t*c) for f in f_list]\n",
    "    eq_list.append(t >= 0)\n",
    "\n",
    "    #   sol = sp.solve(sp.solve([eq1, t >= 0],),t)\n",
    "    sol = sp.solve(sp.solve(eq_list),t)\n",
    "\n",
    "    #   sol = sp.solve(sol, t, dict=True)\n",
    "    print(sol)\n",
    "    # 解が存在する場合は、交点の座標を返す\n",
    "    if sol:\n",
    "        t_value = sol[0]\n",
    "        return t_value * np.array(v)\n",
    "    else:   \n",
    "        return None\n",
    "\n",
    "# 方向ベクトルと陰関数の例\n",
    "v = (1, 2, 3)\n",
    "f = [lambda x, y, z: x**2 + y**2 + z**2 - 25]\n",
    "\n",
    "# 交点を出す関数を呼び出す\n",
    "point = intersection_point(v, f)\n",
    "if len(point):\n",
    "  print(f\"交点は{point}です。\")\n",
    "else:\n",
    "  print(\"交点はありません。\")\n"
   ]
  },
  {
   "cell_type": "code",
   "execution_count": 35,
   "metadata": {},
   "outputs": [],
   "source": [
    "f = [lambda x, y, z: x**2 + y**2 + z**2 - 25, lambda x, y, z: x**2 + y**2 + z**2 - 25]"
   ]
  },
  {
   "cell_type": "code",
   "execution_count": 38,
   "metadata": {},
   "outputs": [],
   "source": [
    "g = [f_ for f_ in f]"
   ]
  },
  {
   "cell_type": "code",
   "execution_count": 5,
   "metadata": {},
   "outputs": [
    {
     "ename": "TypeError",
     "evalue": "Too many arguments for numpy.ndarray[typing.Any, numpy.dtype[+ScalarType]]",
     "output_type": "error",
     "traceback": [
      "\u001b[0;31m---------------------------------------------------------------------------\u001b[0m",
      "\u001b[0;31mTypeError\u001b[0m                                 Traceback (most recent call last)",
      "\u001b[0;32m/var/folders/xt/02mw1qr55355x_tfz9rlb9z00000gn/T/ipykernel_5583/2852992889.py\u001b[0m in \u001b[0;36m<module>\u001b[0;34m\u001b[0m\n\u001b[0;32m----> 1\u001b[0;31m \u001b[0;32mfrom\u001b[0m \u001b[0minchworm_measurement\u001b[0m\u001b[0;34m.\u001b[0m\u001b[0mlaser\u001b[0m \u001b[0;32mimport\u001b[0m \u001b[0mLaser\u001b[0m\u001b[0;34m\u001b[0m\u001b[0;34m\u001b[0m\u001b[0m\n\u001b[0m\u001b[1;32m      2\u001b[0m \u001b[0;32mfrom\u001b[0m \u001b[0minchworm_measurement\u001b[0m \u001b[0;32mimport\u001b[0m \u001b[0mutils\u001b[0m\u001b[0;34m\u001b[0m\u001b[0;34m\u001b[0m\u001b[0m\n\u001b[1;32m      3\u001b[0m \u001b[0;34m\u001b[0m\u001b[0m\n\u001b[1;32m      4\u001b[0m \u001b[0mn\u001b[0m \u001b[0;34m=\u001b[0m \u001b[0;36m6\u001b[0m\u001b[0;34m\u001b[0m\u001b[0;34m\u001b[0m\u001b[0m\n\u001b[1;32m      5\u001b[0m \u001b[0mspotlaser_origin\u001b[0m \u001b[0;34m=\u001b[0m \u001b[0mnp\u001b[0m\u001b[0;34m.\u001b[0m\u001b[0mzeros\u001b[0m\u001b[0;34m(\u001b[0m\u001b[0;34m(\u001b[0m\u001b[0;36m3\u001b[0m\u001b[0;34m,\u001b[0m \u001b[0mn\u001b[0m\u001b[0;34m)\u001b[0m\u001b[0;34m)\u001b[0m\u001b[0;34m\u001b[0m\u001b[0;34m\u001b[0m\u001b[0m\n",
      "\u001b[0;32m~/dev/InchwormMeasurement/inchworm_measurement/laser.py\u001b[0m in \u001b[0;36m<module>\u001b[0;34m\u001b[0m\n\u001b[1;32m      4\u001b[0m \u001b[0;32mfrom\u001b[0m \u001b[0mnumpy\u001b[0m\u001b[0;34m.\u001b[0m\u001b[0mtyping\u001b[0m \u001b[0;32mimport\u001b[0m \u001b[0mNDArray\u001b[0m\u001b[0;34m\u001b[0m\u001b[0;34m\u001b[0m\u001b[0m\n\u001b[1;32m      5\u001b[0m \u001b[0;34m\u001b[0m\u001b[0m\n\u001b[0;32m----> 6\u001b[0;31m \u001b[0mVector_3D\u001b[0m \u001b[0;34m=\u001b[0m \u001b[0mNDArray\u001b[0m\u001b[0;34m[\u001b[0m\u001b[0mfloat\u001b[0m\u001b[0;34m,\u001b[0m \u001b[0;34m(\u001b[0m\u001b[0;32mNone\u001b[0m\u001b[0;34m,\u001b[0m\u001b[0;36m3\u001b[0m\u001b[0;34m)\u001b[0m\u001b[0;34m]\u001b[0m\u001b[0;34m\u001b[0m\u001b[0;34m\u001b[0m\u001b[0m\n\u001b[0m\u001b[1;32m      7\u001b[0m \u001b[0;34m\u001b[0m\u001b[0m\n\u001b[1;32m      8\u001b[0m \u001b[0;32mclass\u001b[0m \u001b[0mLaser\u001b[0m\u001b[0;34m:\u001b[0m\u001b[0;34m\u001b[0m\u001b[0;34m\u001b[0m\u001b[0m\n",
      "\u001b[0;31mTypeError\u001b[0m: Too many arguments for numpy.ndarray[typing.Any, numpy.dtype[+ScalarType]]"
     ]
    }
   ],
   "source": []
  },
  {
   "cell_type": "code",
   "execution_count": 56,
   "metadata": {},
   "outputs": [
    {
     "data": {
      "text/plain": [
       "array([None, None, None], dtype=object)"
      ]
     },
     "execution_count": 56,
     "metadata": {},
     "output_type": "execute_result"
    }
   ],
   "source": [
    "np.array([None, None , None])"
   ]
  },
  {
   "cell_type": "code",
   "execution_count": null,
   "metadata": {},
   "outputs": [],
   "source": []
  }
 ],
 "metadata": {
  "kernelspec": {
   "display_name": "Python 3",
   "language": "python",
   "name": "python3"
  },
  "language_info": {
   "codemirror_mode": {
    "name": "ipython",
    "version": 3
   },
   "file_extension": ".py",
   "mimetype": "text/x-python",
   "name": "python",
   "nbconvert_exporter": "python",
   "pygments_lexer": "ipython3",
   "version": "3.9.6"
  },
  "orig_nbformat": 4,
  "vscode": {
   "interpreter": {
    "hash": "f76b336065bd56ebd9385ed2b4a4201ac0e4f8c5056e005add2befa427813a08"
   }
  }
 },
 "nbformat": 4,
 "nbformat_minor": 2
}
