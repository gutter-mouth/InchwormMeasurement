{
 "cells": [
  {
   "cell_type": "code",
   "execution_count": 8,
   "metadata": {},
   "outputs": [],
   "source": [
    "import sys, os\n",
    "from pathlib import Path\n",
    "sys.path.append(str(Path(os.path.dirname(os.path.abspath(\"__file__\"))).parent))"
   ]
  },
  {
   "cell_type": "code",
   "execution_count": 17,
   "metadata": {},
   "outputs": [
    {
     "name": "stdout",
     "output_type": "stream",
     "text": [
      "The autoreload extension is already loaded. To reload it, use:\n",
      "  %reload_ext autoreload\n"
     ]
    }
   ],
   "source": [
    "%load_ext autoreload\n",
    "%autoreload 2\n",
    "%matplotlib inline\n",
    "from inchworm_measurement.laser import Laser\n",
    "from inchworm_measurement import utils\n",
    "import numpy as np\n"
   ]
  },
  {
   "cell_type": "code",
   "execution_count": 9,
   "metadata": {},
   "outputs": [
    {
     "name": "stdout",
     "output_type": "stream",
     "text": [
      "The autoreload extension is already loaded. To reload it, use:\n",
      "  %reload_ext autoreload\n"
     ]
    }
   ],
   "source": [
    "%load_ext autoreload\n",
    "%autoreload 2\n",
    "%matplotlib inline\n",
    "from inchworm_measurement.laser import Laser\n",
    "from inchworm_measurement import utils\n",
    "import numpy as np\n",
    "\n",
    "n = 6\n",
    "spotlaser_origin = np.zeros((3, n))\n",
    "spotlaser_direction = np.array(\n",
    "    [[np.cos(i * np.pi / n * 2), np.sin(i * np.pi / n * 2), 1] for i in range(n)]\n",
    ").T\n",
    "spot_laser = Laser(spotlaser_origin, spotlaser_direction)\n",
    "\n",
    "\n",
    "Laser.save(spot_laser, \"test\")"
   ]
  },
  {
   "cell_type": "code",
   "execution_count": null,
   "metadata": {},
   "outputs": [],
   "source": []
  },
  {
   "cell_type": "code",
   "execution_count": 11,
   "metadata": {},
   "outputs": [],
   "source": [
    "m = Laser.load(\"test\")"
   ]
  },
  {
   "cell_type": "code",
   "execution_count": 4,
   "metadata": {},
   "outputs": [
    {
     "name": "stdout",
     "output_type": "stream",
     "text": [
      "[[-0.70710678 -0.57735027 -0.57735027]\n",
      " [ 0.          0.57735027 -0.57735027]\n",
      " [-0.70710678  0.57735027  0.57735027]]\n"
     ]
    }
   ],
   "source": [
    "spot_direction_three = np.array(\n",
    "    [\n",
    "        [-1, -1, -1],\n",
    "        [0, 1, -1],\n",
    "        [-1, 1, 1],\n",
    "    ]\n",
    ")\n",
    "spot_direction_three = spot_direction_three / np.linalg.norm(spot_direction_three, axis=0)\n",
    "print(spot_direction_three)\n"
   ]
  },
  {
   "cell_type": "code",
   "execution_count": 30,
   "metadata": {},
   "outputs": [],
   "source": [
    "x = [1,2,3]\n",
    "y = [0,1,2,3,4]\n",
    "z = [y[i] for i in x]"
   ]
  },
  {
   "cell_type": "code",
   "execution_count": 4,
   "metadata": {},
   "outputs": [
    {
     "name": "stdout",
     "output_type": "stream",
     "text": [
      "[(2500.0,), (-2500.0,)]\n"
     ]
    }
   ],
   "source": [
    "x = {(-2500.0,), (2500.0,)}\n",
    "print(list(x))"
   ]
  },
  {
   "cell_type": "code",
   "execution_count": 4,
   "metadata": {},
   "outputs": [
    {
     "data": {
      "text/plain": [
       "False"
      ]
     },
     "execution_count": 4,
     "metadata": {},
     "output_type": "execute_result"
    }
   ],
   "source": [
    "import numpy as np\n",
    "np.all([True, False, True])"
   ]
  },
  {
   "cell_type": "code",
   "execution_count": 26,
   "metadata": {},
   "outputs": [
    {
     "name": "stdout",
     "output_type": "stream",
     "text": [
      "1 2\n"
     ]
    }
   ],
   "source": [
    "from operator import itemgetter\n",
    "class O:\n",
    "    pass\n",
    "o = O()\n",
    "o.p = 1\n",
    "o.q = 2\n",
    "\n",
    "p, q = o.p, o.q\n",
    "print(p,q)"
   ]
  },
  {
   "cell_type": "code",
   "execution_count": 13,
   "metadata": {},
   "outputs": [
    {
     "name": "stdout",
     "output_type": "stream",
     "text": [
      "a b\n"
     ]
    }
   ],
   "source": [
    "x = {\"a\": 1, \"b\": 2} \n",
    "a,b = x.keys()\n",
    "print(a,b)"
   ]
  },
  {
   "cell_type": "code",
   "execution_count": 18,
   "metadata": {},
   "outputs": [
    {
     "ename": "TypeError",
     "evalue": "dict expected at most 1 argument, got 2",
     "output_type": "error",
     "traceback": [
      "\u001b[0;31m---------------------------------------------------------------------------\u001b[0m",
      "\u001b[0;31mTypeError\u001b[0m                                 Traceback (most recent call last)",
      "\u001b[0;32m/var/folders/xt/02mw1qr55355x_tfz9rlb9z00000gn/T/ipykernel_24967/747905319.py\u001b[0m in \u001b[0;36m<module>\u001b[0;34m\u001b[0m\n\u001b[1;32m      1\u001b[0m \u001b[0mx\u001b[0m \u001b[0;34m=\u001b[0m \u001b[0;36m1\u001b[0m\u001b[0;34m\u001b[0m\u001b[0;34m\u001b[0m\u001b[0m\n\u001b[0;32m----> 2\u001b[0;31m \u001b[0mprint\u001b[0m\u001b[0;34m(\u001b[0m\u001b[0mdict\u001b[0m\u001b[0;34m(\u001b[0m\u001b[0;34m[\u001b[0m\u001b[0;34m\"a\"\u001b[0m\u001b[0;34m,\u001b[0m \u001b[0;34m\"b\"\u001b[0m\u001b[0;34m]\u001b[0m\u001b[0;34m,\u001b[0m \u001b[0;34m[\u001b[0m\u001b[0;36m1\u001b[0m\u001b[0;34m,\u001b[0m \u001b[0;36m2\u001b[0m\u001b[0;34m]\u001b[0m\u001b[0;34m)\u001b[0m\u001b[0;34m)\u001b[0m\u001b[0;34m\u001b[0m\u001b[0;34m\u001b[0m\u001b[0m\n\u001b[0m",
      "\u001b[0;31mTypeError\u001b[0m: dict expected at most 1 argument, got 2"
     ]
    }
   ],
   "source": [
    "x = 1\n",
    "print(dict([\"a\", \"b\"], [1, 2]))"
   ]
  },
  {
   "cell_type": "code",
   "execution_count": 11,
   "metadata": {},
   "outputs": [
    {
     "name": "stdout",
     "output_type": "stream",
     "text": [
      "[[0], [1, 2, 3, 4], [5, 6, 7, 8], [9]]\n"
     ]
    }
   ],
   "source": [
    "is_camera_moved = [0,1,1,1,0,1,1,1,0]\n",
    "section = []\n",
    "group = [0]\n",
    "for i in range(len(is_camera_moved)):\n",
    "    if is_camera_moved[i]:\n",
    "        group.append(i+1)\n",
    "    else:\n",
    "        section.append(group)\n",
    "        group = [i+1]\n",
    "if group:\n",
    "    section.append(group)\n",
    "    \n",
    "print(section)"
   ]
  },
  {
   "cell_type": "code",
   "execution_count": 18,
   "metadata": {},
   "outputs": [
    {
     "ename": "SyntaxError",
     "evalue": "invalid syntax (745583819.py, line 3)",
     "output_type": "error",
     "traceback": [
      "\u001b[0;36m  Cell \u001b[0;32mIn[18], line 3\u001b[0;36m\u001b[0m\n\u001b[0;31m    separtor_idx = [ for i, is_moved in enumerate(is_camera_moved)]\u001b[0m\n\u001b[0m                     ^\u001b[0m\n\u001b[0;31mSyntaxError\u001b[0m\u001b[0;31m:\u001b[0m invalid syntax\n"
     ]
    }
   ],
   "source": [
    "section = []\n",
    "group = []\n",
    "separtor_idx = [ for i, is_moved in enumerate(is_camera_moved)]\n",
    "print(separtor_idx)"
   ]
  },
  {
   "cell_type": "code",
   "execution_count": 33,
   "metadata": {},
   "outputs": [
    {
     "ename": "ValueError",
     "evalue": "The truth value of an array with more than one element is ambiguous. Use a.any() or a.all()",
     "output_type": "error",
     "traceback": [
      "\u001b[0;31m---------------------------------------------------------------------------\u001b[0m",
      "\u001b[0;31mValueError\u001b[0m                                Traceback (most recent call last)",
      "\u001b[1;32m/Users/higuchi/dev/InchwormMeasurement/notebook/sandbox.ipynb セル 15\u001b[0m line \u001b[0;36m3\n\u001b[1;32m      <a href='vscode-notebook-cell:/Users/higuchi/dev/InchwormMeasurement/notebook/sandbox.ipynb#X20sZmlsZQ%3D%3D?line=0'>1</a>\u001b[0m is_camera_moved \u001b[39m=\u001b[39m np\u001b[39m.\u001b[39marray(is_camera_moved)\n\u001b[1;32m      <a href='vscode-notebook-cell:/Users/higuchi/dev/InchwormMeasurement/notebook/sandbox.ipynb#X20sZmlsZQ%3D%3D?line=1'>2</a>\u001b[0m all_idx \u001b[39m=\u001b[39m np\u001b[39m.\u001b[39marange(\u001b[39mlen\u001b[39m(is_camera_moved))\n\u001b[0;32m----> <a href='vscode-notebook-cell:/Users/higuchi/dev/InchwormMeasurement/notebook/sandbox.ipynb#X20sZmlsZQ%3D%3D?line=2'>3</a>\u001b[0m separtor_idx \u001b[39m=\u001b[39m all_idx[\u001b[39mnot\u001b[39;49;00m is_camera_moved]\u001b[39m+\u001b[39m\u001b[39m1\u001b[39m\n\u001b[1;32m      <a href='vscode-notebook-cell:/Users/higuchi/dev/InchwormMeasurement/notebook/sandbox.ipynb#X20sZmlsZQ%3D%3D?line=3'>4</a>\u001b[0m separtor_idx \u001b[39m=\u001b[39m [\u001b[39m0\u001b[39m, \u001b[39m*\u001b[39msepartor_idx ,\u001b[39mlen\u001b[39m(is_camera_moved)\u001b[39m+\u001b[39m\u001b[39m1\u001b[39m]\n\u001b[1;32m      <a href='vscode-notebook-cell:/Users/higuchi/dev/InchwormMeasurement/notebook/sandbox.ipynb#X20sZmlsZQ%3D%3D?line=4'>5</a>\u001b[0m section \u001b[39m=\u001b[39m []\n",
      "\u001b[0;31mValueError\u001b[0m: The truth value of an array with more than one element is ambiguous. Use a.any() or a.all()"
     ]
    }
   ],
   "source": [
    "is_camera_moved = np.array(is_camera_moved)\n",
    "all_idx = np.arange(len(is_camera_moved))\n",
    "separtor_idx = all_idx[not is_camera_moved]+1\n",
    "separtor_idx = [0, *separtor_idx ,len(is_camera_moved)+1]\n",
    "section = []\n",
    "for current, next in zip(separtor_idx[:-1], separtor_idx[1:]):\n",
    "    section.append(np.arange(current, next))\n",
    "    \n",
    "print(section)"
   ]
  },
  {
   "cell_type": "code",
   "execution_count": null,
   "metadata": {},
   "outputs": [],
   "source": [
    "    "
   ]
  }
 ],
 "metadata": {
  "kernelspec": {
   "display_name": "Python 3",
   "language": "python",
   "name": "python3"
  },
  "language_info": {
   "codemirror_mode": {
    "name": "ipython",
    "version": 3
   },
   "file_extension": ".py",
   "mimetype": "text/x-python",
   "name": "python",
   "nbconvert_exporter": "python",
   "pygments_lexer": "ipython3",
   "version": "3.10.9"
  },
  "orig_nbformat": 4
 },
 "nbformat": 4,
 "nbformat_minor": 2
}
